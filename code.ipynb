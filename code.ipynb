{
 "cells": [
  {
   "cell_type": "code",
   "execution_count": 33,
   "id": "d1d99b8e-8591-4624-b372-d269b6c3e0e3",
   "metadata": {},
   "outputs": [],
   "source": [
    "import requests\n",
    "import threading\n",
    "from http.server import BaseHTTPRequestHandler, HTTPServer\n",
    "import webbrowser\n",
    "\n",
    "authorization_code = None\n",
    "\n",
    "class AuthorizationHandler(BaseHTTPRequestHandler):\n",
    "    def do_GET(self):\n",
    "        global authorization_code\n",
    "        if self.path.startswith(\"/?code\"):\n",
    "            authorization_code = self.path.split(\"/?code=\")[1]\n",
    "\n",
    "            self.send_response(200)\n",
    "            self.send_header(\"Content-type\", \"text/html\")\n",
    "            self.end_headers()\n",
    "            self.wfile.write(b\"<h2>Authorization Code Received, Close this tab and go back to the session</h2>\")\n",
    "\n",
    "            raise SystemExit"
   ]
  },
  {
   "cell_type": "code",
   "execution_count": 34,
   "id": "393d9d03-102f-4d89-8268-ecfc1eebfe93",
   "metadata": {},
   "outputs": [],
   "source": [
    "from requests_oauthlib import OAuth2Session\n",
    "\n",
    "client_id = \"e3f5090e15587e7ec529\"\n",
    "client_secret = \"1e7409f6b2140a5a3cec1f07d472bc515d5bce28\"\n",
    "authorization_base_url = 'https://github.com/login/oauth/authorize'\n",
    "token_url = 'https://github.com/login/oauth/access_token'\n",
    "redirect_uri = \"http://localhost:1410\"\n",
    "callback_uri = redirect_uri"
   ]
  },
  {
   "cell_type": "code",
   "execution_count": 35,
   "id": "512e56d5-5831-4d87-9673-9d45eec852dd",
   "metadata": {},
   "outputs": [],
   "source": [
    "def start_temp_server():\n",
    "    server = HTTPServer((\"localhost\", 1410), AuthorizationHandler)\n",
    "    server.serve_forever()\n",
    "\n",
    "github = OAuth2Session(client_id)\n",
    "authorization_url, state = github.authorization_url(authorization_base_url)"
   ]
  },
  {
   "cell_type": "code",
   "execution_count": 36,
   "id": "fc56b511-4c78-46a4-97fb-0a7f95885b51",
   "metadata": {},
   "outputs": [
    {
     "data": {
      "text/plain": [
       "('https://github.com/login/oauth/authorize?response_type=code&client_id=e3f5090e15587e7ec529&state=vUzY3oN8E7WVRn8fy5crN5PxEe7jC5',\n",
       " 'vUzY3oN8E7WVRn8fy5crN5PxEe7jC5')"
      ]
     },
     "execution_count": 36,
     "metadata": {},
     "output_type": "execute_result"
    }
   ],
   "source": [
    "authorization_url, state"
   ]
  },
  {
   "cell_type": "code",
   "execution_count": 37,
   "id": "768f7249-a190-4438-bb58-501f7a237516",
   "metadata": {},
   "outputs": [
    {
     "name": "stderr",
     "output_type": "stream",
     "text": [
      "127.0.0.1 - - [05/May/2024 08:33:03] \"GET /?code=55d254720451071e58f0&state=vUzY3oN8E7WVRn8fy5crN5PxEe7jC5 HTTP/1.1\" 200 -\n"
     ]
    }
   ],
   "source": [
    "server_thread = threading.Thread(target=start_temp_server)\n",
    "server_thread.start()\n",
    "webbrowser.open(authorization_url)\n",
    "server_thread.join()"
   ]
  },
  {
   "cell_type": "code",
   "execution_count": 38,
   "id": "400207ff-213e-4c4f-9898-54e3f39d3828",
   "metadata": {},
   "outputs": [
    {
     "data": {
      "text/plain": [
       "'55d254720451071e58f0&state=vUzY3oN8E7WVRn8fy5crN5PxEe7jC5'"
      ]
     },
     "execution_count": 38,
     "metadata": {},
     "output_type": "execute_result"
    }
   ],
   "source": [
    "authorization_code"
   ]
  },
  {
   "cell_type": "code",
   "execution_count": 39,
   "id": "331221dc-790c-4e87-a601-9a172ed91f3a",
   "metadata": {},
   "outputs": [
    {
     "name": "stdout",
     "output_type": "stream",
     "text": [
      "error=bad_verification_code&error_description=The+code+passed+is+incorrect+or+expired.&error_uri=https%3A%2F%2Fdocs.github.com%2Fapps%2Fmanaging-oauth-apps%2Ftroubleshooting-oauth-app-access-token-request-errors%2F%23bad-verification-code\n"
     ]
    }
   ],
   "source": [
    "headers = {'accept':'*/*'}\n",
    "parameters = {'client_id':client_id,'client_secret':client_secret,'access_code':authorization_code}\n",
    "response = requests.get(token_url,headers=headers,params=parameters)\n",
    "print(response.text)\n",
    "token = response.text"
   ]
  },
  {
   "cell_type": "code",
   "execution_count": 40,
   "id": "821a5601-aa5e-49a3-8099-80ef08c79e36",
   "metadata": {},
   "outputs": [
    {
     "ename": "BadCredentialsException",
     "evalue": "200 {\"error\": \"bad_verification_code\", \"error_description\": \"The code passed is incorrect or expired.\", \"error_uri\": \"https://docs.github.com/apps/managing-oauth-apps/troubleshooting-oauth-app-access-token-request-errors/#bad-verification-code\"}",
     "output_type": "error",
     "traceback": [
      "\u001b[0;31m---------------------------------------------------------------------------\u001b[0m",
      "\u001b[0;31mBadCredentialsException\u001b[0m                   Traceback (most recent call last)",
      "Cell \u001b[0;32mIn[40], line 5\u001b[0m\n\u001b[1;32m      3\u001b[0m g \u001b[38;5;241m=\u001b[39m gh\u001b[38;5;241m.\u001b[39mGithub()\n\u001b[1;32m      4\u001b[0m app \u001b[38;5;241m=\u001b[39m g\u001b[38;5;241m.\u001b[39mget_oauth_application(client_id, client_secret)\n\u001b[0;32m----> 5\u001b[0m token \u001b[38;5;241m=\u001b[39m \u001b[43mapp\u001b[49m\u001b[38;5;241;43m.\u001b[39;49m\u001b[43mget_access_token\u001b[49m\u001b[43m(\u001b[49m\u001b[43mauthorization_code\u001b[49m\u001b[43m)\u001b[49m\n\u001b[1;32m      8\u001b[0m \u001b[38;5;66;03m# token = github.fetch_token(\u001b[39;00m\n\u001b[1;32m      9\u001b[0m \u001b[38;5;66;03m#     token_url,\u001b[39;00m\n\u001b[1;32m     10\u001b[0m \u001b[38;5;66;03m#     code=authorization_code,\u001b[39;00m\n\u001b[1;32m     11\u001b[0m \u001b[38;5;66;03m#     client_secret=client_secret)\u001b[39;00m\n",
      "File \u001b[0;32m~/miniforge3/envs/biocpy/lib/python3.11/site-packages/github/ApplicationOAuth.py:136\u001b[0m, in \u001b[0;36mApplicationOAuth.get_access_token\u001b[0;34m(self, code, state)\u001b[0m\n\u001b[1;32m    133\u001b[0m \u001b[38;5;28;01mif\u001b[39;00m state \u001b[38;5;129;01mis\u001b[39;00m \u001b[38;5;129;01mnot\u001b[39;00m \u001b[38;5;28;01mNone\u001b[39;00m:\n\u001b[1;32m    134\u001b[0m     post_parameters[\u001b[38;5;124m\"\u001b[39m\u001b[38;5;124mstate\u001b[39m\u001b[38;5;124m\"\u001b[39m] \u001b[38;5;241m=\u001b[39m state\n\u001b[0;32m--> 136\u001b[0m headers, data \u001b[38;5;241m=\u001b[39m \u001b[38;5;28;43mself\u001b[39;49m\u001b[38;5;241;43m.\u001b[39;49m\u001b[43m_checkError\u001b[49m\u001b[43m(\u001b[49m\n\u001b[1;32m    137\u001b[0m \u001b[43m    \u001b[49m\u001b[38;5;241;43m*\u001b[39;49m\u001b[38;5;28;43mself\u001b[39;49m\u001b[38;5;241;43m.\u001b[39;49m\u001b[43m_requester\u001b[49m\u001b[38;5;241;43m.\u001b[39;49m\u001b[43mrequestJsonAndCheck\u001b[49m\u001b[43m(\u001b[49m\n\u001b[1;32m    138\u001b[0m \u001b[43m        \u001b[49m\u001b[38;5;124;43m\"\u001b[39;49m\u001b[38;5;124;43mPOST\u001b[39;49m\u001b[38;5;124;43m\"\u001b[39;49m\u001b[43m,\u001b[49m\n\u001b[1;32m    139\u001b[0m \u001b[43m        \u001b[49m\u001b[38;5;28;43mself\u001b[39;49m\u001b[38;5;241;43m.\u001b[39;49m\u001b[43mget_oauth_url\u001b[49m\u001b[43m(\u001b[49m\u001b[38;5;124;43m\"\u001b[39;49m\u001b[38;5;124;43m/access_token\u001b[39;49m\u001b[38;5;124;43m\"\u001b[39;49m\u001b[43m)\u001b[49m\u001b[43m,\u001b[49m\n\u001b[1;32m    140\u001b[0m \u001b[43m        \u001b[49m\u001b[43mheaders\u001b[49m\u001b[38;5;241;43m=\u001b[39;49m\u001b[43m{\u001b[49m\u001b[38;5;124;43m\"\u001b[39;49m\u001b[38;5;124;43mAccept\u001b[39;49m\u001b[38;5;124;43m\"\u001b[39;49m\u001b[43m:\u001b[49m\u001b[43m \u001b[49m\u001b[38;5;124;43m\"\u001b[39;49m\u001b[38;5;124;43mapplication/json\u001b[39;49m\u001b[38;5;124;43m\"\u001b[39;49m\u001b[43m}\u001b[49m\u001b[43m,\u001b[49m\n\u001b[1;32m    141\u001b[0m \u001b[43m        \u001b[49m\u001b[38;5;28;43minput\u001b[39;49m\u001b[38;5;241;43m=\u001b[39;49m\u001b[43mpost_parameters\u001b[49m\u001b[43m,\u001b[49m\n\u001b[1;32m    142\u001b[0m \u001b[43m    \u001b[49m\u001b[43m)\u001b[49m\n\u001b[1;32m    143\u001b[0m \u001b[43m\u001b[49m\u001b[43m)\u001b[49m\n\u001b[1;32m    145\u001b[0m \u001b[38;5;28;01mreturn\u001b[39;00m github\u001b[38;5;241m.\u001b[39mAccessToken\u001b[38;5;241m.\u001b[39mAccessToken(\n\u001b[1;32m    146\u001b[0m     requester\u001b[38;5;241m=\u001b[39m\u001b[38;5;28mself\u001b[39m\u001b[38;5;241m.\u001b[39m_requester,\n\u001b[1;32m    147\u001b[0m     headers\u001b[38;5;241m=\u001b[39mheaders,\n\u001b[1;32m    148\u001b[0m     attributes\u001b[38;5;241m=\u001b[39mdata,\n\u001b[1;32m    149\u001b[0m     completed\u001b[38;5;241m=\u001b[39m\u001b[38;5;28;01mFalse\u001b[39;00m,\n\u001b[1;32m    150\u001b[0m )\n",
      "File \u001b[0;32m~/miniforge3/envs/biocpy/lib/python3.11/site-packages/github/ApplicationOAuth.py:197\u001b[0m, in \u001b[0;36mApplicationOAuth._checkError\u001b[0;34m(headers, data)\u001b[0m\n\u001b[1;32m    195\u001b[0m \u001b[38;5;28;01mif\u001b[39;00m \u001b[38;5;28misinstance\u001b[39m(data, \u001b[38;5;28mdict\u001b[39m) \u001b[38;5;129;01mand\u001b[39;00m \u001b[38;5;124m\"\u001b[39m\u001b[38;5;124merror\u001b[39m\u001b[38;5;124m\"\u001b[39m \u001b[38;5;129;01min\u001b[39;00m data:\n\u001b[1;32m    196\u001b[0m     \u001b[38;5;28;01mif\u001b[39;00m data[\u001b[38;5;124m\"\u001b[39m\u001b[38;5;124merror\u001b[39m\u001b[38;5;124m\"\u001b[39m] \u001b[38;5;241m==\u001b[39m \u001b[38;5;124m\"\u001b[39m\u001b[38;5;124mbad_verification_code\u001b[39m\u001b[38;5;124m\"\u001b[39m:\n\u001b[0;32m--> 197\u001b[0m         \u001b[38;5;28;01mraise\u001b[39;00m BadCredentialsException(\u001b[38;5;241m200\u001b[39m, data, headers)\n\u001b[1;32m    198\u001b[0m     \u001b[38;5;28;01mraise\u001b[39;00m GithubException(\u001b[38;5;241m200\u001b[39m, data, headers)\n\u001b[1;32m    200\u001b[0m \u001b[38;5;28;01mreturn\u001b[39;00m headers, data\n",
      "\u001b[0;31mBadCredentialsException\u001b[0m: 200 {\"error\": \"bad_verification_code\", \"error_description\": \"The code passed is incorrect or expired.\", \"error_uri\": \"https://docs.github.com/apps/managing-oauth-apps/troubleshooting-oauth-app-access-token-request-errors/#bad-verification-code\"}"
     ]
    }
   ],
   "source": [
    "import github as gh\n",
    "\n",
    "g = gh.Github()\n",
    "app = g.get_oauth_application(client_id, client_secret)\n",
    "token = app.get_access_token(authorization_code)\n",
    "\n",
    "\n",
    "# token = github.fetch_token(\n",
    "#     token_url,\n",
    "#     code=authorization_code,\n",
    "#     client_secret=client_secret)"
   ]
  },
  {
   "cell_type": "code",
   "execution_count": null,
   "id": "c78046c9-9934-429d-9733-c0a180caaf39",
   "metadata": {},
   "outputs": [],
   "source": []
  }
 ],
 "metadata": {
  "kernelspec": {
   "display_name": "Python 3 (ipykernel)",
   "language": "python",
   "name": "python3"
  },
  "language_info": {
   "codemirror_mode": {
    "name": "ipython",
    "version": 3
   },
   "file_extension": ".py",
   "mimetype": "text/x-python",
   "name": "python",
   "nbconvert_exporter": "python",
   "pygments_lexer": "ipython3",
   "version": "3.11.8"
  }
 },
 "nbformat": 4,
 "nbformat_minor": 5
}
